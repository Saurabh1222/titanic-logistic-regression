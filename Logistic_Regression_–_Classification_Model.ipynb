{
  "nbformat": 4,
  "nbformat_minor": 0,
  "metadata": {
    "colab": {
      "provenance": []
    },
    "kernelspec": {
      "name": "python3",
      "display_name": "Python 3"
    },
    "language_info": {
      "name": "python"
    }
  },
  "cells": [
    {
      "cell_type": "code",
      "execution_count": null,
      "metadata": {
        "id": "HmDMp-ZNsgbb"
      },
      "outputs": [],
      "source": [
        "# Step 1: Import libraries\n",
        "import pandas as pd\n",
        "from sklearn.model_selection import train_test_split\n",
        "from sklearn.linear_model import LogisticRegression\n",
        "from sklearn.metrics import accuracy_score, confusion_matrix, classification_report"
      ]
    },
    {
      "cell_type": "code",
      "source": [
        "# Step 2: Load Titanic dataset (from seaborn)\n",
        "import seaborn as sns\n",
        "df = sns.load_dataset('titanic')\n",
        "\n",
        "# Step 3: Select relevant columns\n",
        "df = df[['survived', 'pclass', 'sex', 'age', 'fare']].dropna()\n",
        "\n",
        "# Step 4: Convert 'sex' to numeric\n",
        "df['sex'] = df['sex'].map({'male': 0, 'female': 1})\n",
        "\n",
        "# Step 5: Features and target\n",
        "X = df[['pclass', 'sex', 'age', 'fare']]\n",
        "y = df['survived']\n",
        "\n",
        "# Step 6: Train/test split\n",
        "X_train, X_test, y_train, y_test = train_test_split(X, y, test_size=0.2, random_state=42)\n",
        "\n",
        "# Step 7: Train model\n",
        "model = LogisticRegression()\n",
        "model.fit(X_train, y_train)\n",
        "\n",
        "# Step 8: Predict and evaluate\n",
        "y_pred = model.predict(X_test)\n",
        "\n",
        "print(\"Accuracy:\", accuracy_score(y_test, y_pred))\n",
        "print(\"Confusion Matrix:\\n\", confusion_matrix(y_test, y_pred))\n",
        "print(\"Classification Report:\\n\", classification_report(y_test, y_pred))"
      ],
      "metadata": {
        "colab": {
          "base_uri": "https://localhost:8080/"
        },
        "id": "tRJOEwqrt9yv",
        "outputId": "6d088761-a373-469b-c324-ea3204872365"
      },
      "execution_count": null,
      "outputs": [
        {
          "output_type": "stream",
          "name": "stdout",
          "text": [
            "Accuracy: 0.7552447552447552\n",
            "Confusion Matrix:\n",
            " [[68 19]\n",
            " [16 40]]\n",
            "Classification Report:\n",
            "               precision    recall  f1-score   support\n",
            "\n",
            "           0       0.81      0.78      0.80        87\n",
            "           1       0.68      0.71      0.70        56\n",
            "\n",
            "    accuracy                           0.76       143\n",
            "   macro avg       0.74      0.75      0.75       143\n",
            "weighted avg       0.76      0.76      0.76       143\n",
            "\n"
          ]
        }
      ]
    }
  ]
}